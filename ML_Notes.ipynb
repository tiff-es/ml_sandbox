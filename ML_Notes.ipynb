{
  "nbformat": 4,
  "nbformat_minor": 0,
  "metadata": {
    "colab": {
      "provenance": [],
      "gpuType": "V100",
      "authorship_tag": "ABX9TyNRMb5QyeZ/VWrAdf+Au1nN",
      "include_colab_link": true
    },
    "kernelspec": {
      "name": "python3",
      "display_name": "Python 3"
    },
    "language_info": {
      "name": "python"
    },
    "accelerator": "GPU"
  },
  "cells": [
    {
      "cell_type": "markdown",
      "metadata": {
        "id": "view-in-github",
        "colab_type": "text"
      },
      "source": [
        "<a href=\"https://colab.research.google.com/github/tiff-es/ml_sandbox/blob/main/ML_Notes.ipynb\" target=\"_parent\"><img src=\"https://colab.research.google.com/assets/colab-badge.svg\" alt=\"Open In Colab\"/></a>"
      ]
    },
    {
      "cell_type": "markdown",
      "source": [
        "#ML Notes\n",
        "https://developers.google.com/machine-learning/crash-course/framing/check-your-understanding#features-and-labels\n",
        "\n",
        "##Framing\n",
        "- **Label** is the variable we're predicting (`y`)\n",
        "- **Features** are variables describing data `x1,x2,xn`\n",
        "- **Example** is a particular instance of data\n",
        " - **Labelled example** (`x,y`) has *features*\n",
        "    - `  labeled examples: {features, label}: (x, y)`\n",
        "\n",
        " -**Unlabeled example** contain features but *not* label\n",
        "\n",
        " `  unlabeled examples: {features, ?}: (x, ?)`\n",
        "\n"
      ],
      "metadata": {
        "id": "jLM9VfVDd1ha"
      }
    },
    {
      "cell_type": "markdown",
      "source": [
        "##Features\n",
        "\n",
        "- \"**feature** is an input variable—the `x` variable in simple linear regression. A simple machine learning project might use a single feature, while a more sophisticated machine learning project could use millions of features\"\n",
        "\n",
        "##Examples\n",
        "\n",
        "####An example is a particular instance of data, **x**. (We put **x** in boldface to indicate that it is a vector.) We break examples into two categories:\n",
        "\n",
        "- labeled examples\n",
        "- unlabeled examples\n",
        "A labeled example includes both feature(s) and the label. That is:\n",
        "\n",
        "\n",
        " ``` labeled examples: {features, label}: (x, y)```\n",
        "\n",
        "Use labeled examples to **train** the model. In our spam detector example, the labeled examples would be individual emails that users have explicitly marked as \"spam\" or \"not spam.\"\n",
        "\n",
        "\n",
        "#### An unlabeled example contains features but not the label. That is:\n",
        "\n",
        "\n",
        " ``` unlabeled examples: {features, ?}: (x, ?)```\n",
        "\n",
        ""
      ],
      "metadata": {
        "id": "NYcVeOb3fr87"
      }
    },
    {
      "cell_type": "code",
      "execution_count": null,
      "metadata": {
        "id": "BUqBeYjpZkXg"
      },
      "outputs": [],
      "source": []
    },
    {
      "cell_type": "markdown",
      "source": [
        "## Models\n",
        "\n",
        "A **model** defines the relationship between **features** *and* **label**. For example, a spam detection model might associate certain features strongly with \"spam\". Let's highlight two phases of a model's life:\n",
        "\n",
        "- **Training** means creating or learning the model. That is, you show the model labeled examples and enable the model to gradually learn the relationships between features and label.\n",
        "\n",
        "- **Inference** means applying the trained model to unlabeled examples. That is, you use the trained model to make useful predictions (`y`'). For example, during inference, you can predict `medianHouseValue` for new unlabeled examples.\n",
        "\n",
        "\n",
        "####Regression vs. classification\n",
        "A **regression** model predicts continuous values. For example, regression models make predictions that answer questions like the following:\n",
        "\n",
        " -  *What is the value of a house in California?*\n",
        "\n",
        " -  *What is the probability that a user will click on this ad?*\n",
        "\n",
        "A **classification** model predicts discrete values. For example, classification models make predictions that answer questions like the following:\n",
        "\n",
        "-   *Is a given email message spam or not spam?*\n",
        "\n",
        "-   *Is this an image of a dog, a cat, or a hamster?*"
      ],
      "metadata": {
        "id": "gNmlLjcriFF1"
      }
    }
  ]
}